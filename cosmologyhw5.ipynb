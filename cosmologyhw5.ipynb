{
 "cells": [
  {
   "cell_type": "code",
   "execution_count": 8,
   "metadata": {},
   "outputs": [],
   "source": [
    "import math\n",
    "import fileinput\n",
    "\n",
    "import numpy as np\n",
    "\n",
    "from astropy import constants as c\n",
    "from astropy import units as u\n",
    "\n",
    "import matplotlib.pyplot as plt\n",
    "\n",
    "from scipy.integrate import quad\n",
    "from scipy.misc import derivative\n",
    "from scipy.integrate import odeint\n",
    "\n",
    "from matplotlib import rcParams\n",
    "rcParams.update({'figure.autolayout': True})\n",
    "\n",
    "rcParams.update({'figure.autolayout': True})\n",
    "plt.rc('font', family='serif')"
   ]
  },
  {
   "cell_type": "code",
   "execution_count": 10,
   "metadata": {},
   "outputs": [],
   "source": [
    "H02 = 67.3**2. * u.km**2. /u.s**2. /u.Mpc**2.\n",
    "\n",
    "def A(w):\n",
    "    result = ((9./4.)*(1+w)**2 * H02)**(1/(3*(1+w)))\n",
    "    return result\n",
    "\n",
    "def x(w):\n",
    "    result = 2/(3*(1+w))\n",
    "    return result\n",
    "\n",
    "def t_r(w):\n",
    "    result = ((9./4.)*(1+w)**2. * H02)**(-0.5) + 13.8 *u.Gyr\n",
    "    return result\n",
    "\n",
    "def a(A,x,t_r,t):\n",
    "    A*(t_r - t)**x\n",
    "    return result"
   ]
  },
  {
   "cell_type": "code",
   "execution_count": 7,
   "metadata": {},
   "outputs": [],
   "source": [
    "\n",
    "\n",
    "w1 = -1.1\n",
    "w2 = -2\n",
    "\n",
    "def plotter(w1,w2,f):\n",
    "    fig = plt.figure(figsize = (8,6))\n",
    "    ax = fig.add_subplot(111)\n",
    "    #m1\n",
    "    plt.plot(a_log,eps_f(a_log,m1),label = '$\\epsilon_1(a)$')\n",
    "    #m2\n",
    "    plt.plot(a_log,eps_f(a_log,m2),label = '$\\epsilon_2(a)$')\n",
    "    #m3\n",
    "    plt.plot(a_log,eps_f(a_log,m3),label = '$\\epsilon_3(a)$')\n",
    "    ax.set_yscale('log')\n",
    "    ax.set_xlabel('log $a$')\n",
    "    ax.set_ylabel('$\\epsilon (a)$ [eV/$nm^3$]')\n",
    "    ax.legend()\n",
    "    plt.savefig('444hw43d'+f+'.pdf')\n",
    "    plt.show()\n",
    "    \n",
    "    ax.plot(ts,a_s)\n",
    "    ax.set_yscale('log')\n",
    "    ax.set_xlabel('$t$ / Gyr')\n",
    "    ax.set_ylabel('$a(t)$')\n",
    "    ax.set_title('$a(t,w={0:0.1f})$'.format(w))\n",
    "    ax.set_xlim(0,tr.value+5.)\n",
    "    plt.show()"
   ]
  },
  {
   "cell_type": "code",
   "execution_count": 4,
   "metadata": {},
   "outputs": [
    {
     "name": "stderr",
     "output_type": "stream",
     "text": [
      "/Library/Frameworks/Python.framework/Versions/3.7/lib/python3.7/site-packages/ipykernel_launcher.py:2: RuntimeWarning: invalid value encountered in sqrt\n",
      "  \n"
     ]
    }
   ],
   "source": [
    "\n",
    "\n"
   ]
  },
  {
   "cell_type": "code",
   "execution_count": null,
   "metadata": {},
   "outputs": [],
   "source": []
  }
 ],
 "metadata": {
  "kernelspec": {
   "display_name": "Python 3",
   "language": "python",
   "name": "python3"
  },
  "language_info": {
   "codemirror_mode": {
    "name": "ipython",
    "version": 3
   },
   "file_extension": ".py",
   "mimetype": "text/x-python",
   "name": "python",
   "nbconvert_exporter": "python",
   "pygments_lexer": "ipython3",
   "version": "3.7.4"
  }
 },
 "nbformat": 4,
 "nbformat_minor": 2
}
