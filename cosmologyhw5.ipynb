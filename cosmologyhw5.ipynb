{
 "cells": [
  {
   "cell_type": "code",
   "execution_count": 1,
   "metadata": {},
   "outputs": [],
   "source": [
    "import math\n",
    "import fileinput\n",
    "\n",
    "import numpy as np\n",
    "\n",
    "from astropy import constants as c\n",
    "from astropy import units as u\n",
    "\n",
    "import matplotlib.pyplot as plt\n",
    "\n",
    "from scipy.integrate import quad\n",
    "from scipy.misc import derivative\n",
    "from scipy.integrate import odeint\n",
    "\n",
    "from matplotlib import rcParams\n",
    "rcParams.update({'figure.autolayout': True})\n",
    "\n",
    "rcParams.update({'figure.autolayout': True})\n",
    "plt.rc('font', family='serif')"
   ]
  },
  {
   "cell_type": "code",
   "execution_count": 9,
   "metadata": {},
   "outputs": [],
   "source": [
    "H02 = 67.3**2. * u.km**2. /u.s**2. /u.Mpc**2.\n",
    "\n",
    "def A(w):\n",
    "    result = ((9./4.)*(1+w)**2 * H02)**(1/(3*(1+w)))\n",
    "    return result\n",
    "\n",
    "def x(w):\n",
    "    result = 2/(3*(1+w))\n",
    "    return result\n",
    "\n",
    "def t_r(w):\n",
    "    result = ((9./4.)*(1+w)**2. * H02)**(-0.5) + 13.8 *u.Gyr\n",
    "    return result.to(u.Gyr)\n",
    "\n",
    "def a(t,w):\n",
    "    a=A(w)*(t_r(w) - t)**x(w)\n",
    "    return a"
   ]
  },
  {
   "cell_type": "code",
   "execution_count": 10,
   "metadata": {},
   "outputs": [
    {
     "name": "stdout",
     "output_type": "stream",
     "text": [
      "110.65906108698638 Gyr\n",
      "23.48590610869865 Gyr\n"
     ]
    },
    {
     "name": "stderr",
     "output_type": "stream",
     "text": [
      "/usr/local/lib/python3.7/site-packages/astropy/units/quantity.py:466: RuntimeWarning: divide by zero encountered in power\n",
      "  result = super().__array_ufunc__(function, method, *arrays, **kwargs)\n"
     ]
    },
    {
     "data": {
      "image/png": "[encoded data removed]",
      "text/plain": [
       "<Figure size 576x432 with 1 Axes>"
      ]
     },
     "metadata": {
      "needs_background": "light"
     },
     "output_type": "display_data"
    }
   ],
   "source": [
    "w1 = -1.1\n",
    "w2 = -2\n",
    "\n",
    "for w in [w1,w2]:\n",
    "    print(t_r(w))\n",
    "\n",
    "def plotter(w):\n",
    "    tr_v=t_r(w) #set the value for RIP time\n",
    "    #Make an array of times from 0 to RIP time:\n",
    "    ts=np.linspace(0,tr_v,1000)\n",
    "    \n",
    "    fig=plt.figure(figsize=(8,6))\n",
    "    ax=fig.add_subplot(111)\n",
    "    ax.plot(ts,a(ts,w))\n",
    "    ax.set_yscale('log')\n",
    "    plt.show()\n",
    "    \n",
    "plotter(-1.1)"
   ]
  },
  {
   "cell_type": "code",
   "execution_count": 3,
   "metadata": {},
   "outputs": [],
   "source": [
    "def plotter(w1,w2,f):\n",
    "    fig = plt.figure(figsize = (8,6))\n",
    "    ax = fig.add_subplot(111)\n",
    "    #m1\n",
    "    plt.plot(a_log,eps_f(a_log,m1),label = '$\\epsilon_1(a)$')\n",
    "    #m2\n",
    "    plt.plot(a_log,eps_f(a_log,m2),label = '$\\epsilon_2(a)$')\n",
    "    #m3\n",
    "    plt.plot(a_log,eps_f(a_log,m3),label = '$\\epsilon_3(a)$')\n",
    "    ax.set_yscale('log')\n",
    "    ax.set_xlabel('log $a$')\n",
    "    ax.set_ylabel('$\\epsilon (a)$ [eV/$nm^3$]')\n",
    "    ax.legend()\n",
    "    plt.savefig('444hw43d'+f+'.pdf')\n",
    "    plt.show()\n",
    "    \n",
    "    ax.plot(ts,a_s)\n",
    "    ax.set_yscale('log')\n",
    "    ax.set_xlabel('$t$ / Gyr')\n",
    "    ax.set_ylabel('$a(t)$')\n",
    "    ax.set_title('$a(t,w={0:0.1f})$'.format(w))\n",
    "    ax.set_xlim(0,tr.value+5.)\n",
    "    plt.show()"
   ]
  }
 ],
 "metadata": {
  "kernelspec": {
   "display_name": "Python 3",
   "language": "python",
   "name": "python3"
  },
  "language_info": {
   "codemirror_mode": {
    "name": "ipython",
    "version": 3
   },
   "file_extension": ".py",
   "mimetype": "text/x-python",
   "name": "python",
   "nbconvert_exporter": "python",
   "pygments_lexer": "ipython3",
   "version": "3.7.3"
  }
 },
 "nbformat": 4,
 "nbformat_minor": 2
}
